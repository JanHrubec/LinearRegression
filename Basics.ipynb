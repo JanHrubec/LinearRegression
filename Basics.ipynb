{
 "cells": [
  {
   "cell_type": "code",
   "execution_count": 1,
   "metadata": {},
   "outputs": [
    {
     "ename": "ValueError",
     "evalue": "not enough values to unpack (expected 2, got 1)",
     "output_type": "error",
     "traceback": [
      "\u001b[0;31m---------------------------------------------------------------------------\u001b[0m",
      "\u001b[0;31mValueError\u001b[0m                                Traceback (most recent call last)",
      "Cell \u001b[0;32mIn[1], line 2\u001b[0m\n\u001b[1;32m      1\u001b[0m \u001b[38;5;66;03m#ÚKOL 1\u001b[39;00m\n\u001b[0;32m----> 2\u001b[0m n, f \u001b[38;5;241m=\u001b[39m \u001b[38;5;28minput\u001b[39m()\u001b[38;5;241m.\u001b[39msplit()\n\u001b[1;32m      3\u001b[0m n \u001b[38;5;241m=\u001b[39m \u001b[38;5;28mint\u001b[39m(n)\n\u001b[1;32m      4\u001b[0m f \u001b[38;5;241m=\u001b[39m \u001b[38;5;28mint\u001b[39m(f)\n",
      "\u001b[0;31mValueError\u001b[0m: not enough values to unpack (expected 2, got 1)"
     ]
    }
   ],
   "source": [
    "#Calculate predictions\n",
    "n, f = input().split()\n",
    "n = int(n)\n",
    "f = int(f)\n",
    "weights = []\n",
    "inp = input().split()\n",
    "for i in range(f):\n",
    "    weights.append(float(inp[i]))\n",
    "bias = float(inp[-1])\n",
    "\n",
    "data = []\n",
    "correct = []\n",
    "for i in range(n):\n",
    "    data.append([])\n",
    "    inp = input().split()\n",
    "    for j in range(f):\n",
    "        data[i].append(float(inp[j]))\n",
    "    correct.append(float(inp[-1]))\n",
    "\n",
    "\n",
    "\n",
    "\n",
    "predictions = []\n",
    "for i in range(n):\n",
    "    prediction = 0.0\n",
    "    for j in range(f):\n",
    "        prediction += data[i][j] * weights[j]\n",
    "    prediction += bias\n",
    "    predictions.append(prediction)\n",
    "\n",
    "for p in predictions:\n",
    "    print(p)"
   ]
  },
  {
   "cell_type": "code",
   "execution_count": 3,
   "metadata": {},
   "outputs": [
    {
     "name": "stdout",
     "output_type": "stream",
     "text": [
      "0.625\n"
     ]
    }
   ],
   "source": [
    "#Calculate error\n",
    "n, f = input().split()\n",
    "n = int(n)\n",
    "f = int(f)\n",
    "weights = []\n",
    "inp = input().split()\n",
    "for i in range(f):\n",
    "    weights.append(float(inp[i]))\n",
    "bias = float(inp[-1])\n",
    "\n",
    "data = []\n",
    "correct = []\n",
    "for i in range(n):\n",
    "    data.append([])\n",
    "    inp = input().split()\n",
    "    for j in range(f):\n",
    "        data[i].append(float(inp[j]))\n",
    "    correct.append(float(inp[-1]))\n",
    "\n",
    "\n",
    "\n",
    "\n",
    "\n",
    "predictions = []\n",
    "for i in range(n):\n",
    "    prediction = 0.0\n",
    "    for j in range(f):\n",
    "        prediction += data[i][j] * weights[j]\n",
    "    prediction += bias\n",
    "    predictions.append(prediction)\n",
    "\n",
    "\n",
    "error = 0.0\n",
    "for i in range(len(predictions)):\n",
    "    error += (predictions[i] - correct[i]) ** 2\n",
    "error /= len(predictions)\n",
    "print(error)"
   ]
  },
  {
   "cell_type": "code",
   "execution_count": 2,
   "metadata": {},
   "outputs": [
    {
     "ename": "ValueError",
     "evalue": "not enough values to unpack (expected 2, got 0)",
     "output_type": "error",
     "traceback": [
      "\u001b[0;31m---------------------------------------------------------------------------\u001b[0m",
      "\u001b[0;31mValueError\u001b[0m                                Traceback (most recent call last)",
      "Cell \u001b[0;32mIn[2], line 2\u001b[0m\n\u001b[1;32m      1\u001b[0m \u001b[38;5;66;03m#ÚKOL 3\u001b[39;00m\n\u001b[0;32m----> 2\u001b[0m n, f \u001b[38;5;241m=\u001b[39m \u001b[38;5;28minput\u001b[39m()\u001b[38;5;241m.\u001b[39msplit()\n\u001b[1;32m      3\u001b[0m n \u001b[38;5;241m=\u001b[39m \u001b[38;5;28mint\u001b[39m(n)\n\u001b[1;32m      4\u001b[0m f \u001b[38;5;241m=\u001b[39m \u001b[38;5;28mint\u001b[39m(f)\n",
      "\u001b[0;31mValueError\u001b[0m: not enough values to unpack (expected 2, got 0)"
     ]
    }
   ],
   "source": [
    "#Check if weights are optimal\n",
    "n, f = input().split()\n",
    "n = int(n)\n",
    "f = int(f)\n",
    "\n",
    "weights = []\n",
    "inp = input().split()\n",
    "for i in range(f):\n",
    "    weights.append(float(inp[i]))\n",
    "bias = float(inp[-1])\n",
    "\n",
    "data = []\n",
    "correct = []\n",
    "for i in range(n):\n",
    "    data.append([])\n",
    "    inp = input().split()\n",
    "    for j in range(f):\n",
    "        data[i].append(float(inp[j]))\n",
    "    correct.append(float(inp[-1]))\n",
    "\n",
    "predictions = []\n",
    "for i in range(n):\n",
    "    prediction = 0.0\n",
    "    for j in range(f):\n",
    "        prediction += data[i][j] * weights[j]\n",
    "    prediction += bias\n",
    "    predictions.append(prediction)\n",
    "\n",
    "\n",
    "\n",
    "\n",
    "\n",
    "check = True\n",
    "for i in range(f):\n",
    "    left = 0.0\n",
    "    right = 0.0\n",
    "    for j in range(n):\n",
    "        left += data[j][i] * predictions[j]\n",
    "        right += data[j][i] * correct[j]\n",
    "    if abs(left - right) > 0.000001:\n",
    "        print(\"NO\")\n",
    "        check = False\n",
    "        break\n",
    "\n",
    "if check == True:\n",
    "    print(\"YES\")\n"
   ]
  },
  {
   "cell_type": "code",
   "execution_count": 1,
   "metadata": {},
   "outputs": [
    {
     "name": "stdout",
     "output_type": "stream",
     "text": [
      "MSE: 3035.9172617546797; R^2: 0.5603817420300109\n"
     ]
    }
   ],
   "source": [
    "#ÚKOL 5\n",
    "from sklearn.datasets import load_diabetes\n",
    "from sklearn.model_selection import train_test_split\n",
    "from sklearn.linear_model import LinearRegression\n",
    "from sklearn.metrics import mean_squared_error, r2_score\n",
    "\n",
    "diabetes = load_diabetes()\n",
    "train_data, test_data, train_target, test_target = train_test_split(diabetes.data, diabetes.target, test_size=0.05)\n",
    "\n",
    "model = LinearRegression()\n",
    "model.fit(train_data, train_target)\n",
    "\n",
    "predictions = model.predict(test_data)\n",
    "\n",
    "mse = mean_squared_error(test_target, predictions)\n",
    "r2 = r2_score(test_target, predictions) #Vybral jsem r2, protože se jednoduše kvantifikuje a pro každý model platí, že čím blíže je k 1, tím lepší je. MSE se od modelu k modelu liší a těžko se zjišťuje zda je jeho hodnota dobrá\n",
    "\n",
    "print(f\"MSE: {mse}; R^2: {r2}\")"
   ]
  }
 ],
 "metadata": {
  "kernelspec": {
   "display_name": "Python 3",
   "language": "python",
   "name": "python3"
  },
  "language_info": {
   "codemirror_mode": {
    "name": "ipython",
    "version": 3
   },
   "file_extension": ".py",
   "mimetype": "text/x-python",
   "name": "python",
   "nbconvert_exporter": "python",
   "pygments_lexer": "ipython3",
   "version": "3.10.13"
  }
 },
 "nbformat": 4,
 "nbformat_minor": 2
}
